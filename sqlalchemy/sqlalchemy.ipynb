{
 "cells": [
  {
   "cell_type": "markdown",
   "metadata": {},
   "source": [
    "# SQL Alchemy\n",
    "\n",
    "Interacting with a database is hard; it's hard to figue out all the right queries, it's hard to execute your queries in the right way, it's hard to make sure you don't accidentally introduce a SQL injection vulnerability...\n",
    "\n",
    "The `sqlalchemy` package abstracts the database away, letting you focus on the objects and their interactions rather than having to worry about the database. It's an **ORM**, which is an abstraction layer that provides the underlying plumbing to connect everything to the database and gives you the methods to load and save objects without having to understand how the database works (well, mostly). And it's database-agnostic, meaning your program will run on whatever DBMS you want it to, including SQL-Lite, MySQL, PostgreSQL, and others."
   ]
  },
  {
   "cell_type": "markdown",
   "metadata": {},
   "source": [
    "## High-Level Overview\n",
    "\n",
    "You will work with your database by creating classes that represent the data you want to save and by managing instances of those classes in a `session`. Every `sqlalchemy` program starts by opening a session and finishes by closing the session (I highly recommend using a [with statement](https://docs.python.org/3/reference/compound_stmts.html#the-with-statement) for this).\n",
    "\n",
    "Once you have the session, you can use it as a starting point to query the database and retrieve objects, to change those objects, and to add and delete objects. This set of operations is usually referred to as CRUD:\n",
    "\n",
    "* **Create:** make a new object\n",
    "* **Read:** load one or more objects from the database\n",
    "* **Update:** change the values of stored objects\n",
    "* **Delete:** remove objects from the database\n",
    "\n",
    "SQL Alchemy also gives you easy semantics to perform transactions on the database (where either all your changes take place atomically or none of them take place in the final result)."
   ]
  },
  {
   "cell_type": "markdown",
   "metadata": {},
   "source": [
    "## Getting Started\n",
    "\n",
    "First you need to install `sqlalchemy`:\n",
    "\n",
    "```bash\n",
    "$ pip install sqlalchemy\n",
    "Collecting sqlalchemy\n",
    "  Downloading SQLAlchemy-1.2.1.tar.gz (5.5MB)\n",
    "    100% |████████████████████████████████| 5.5MB 279kB/s \n",
    "Building wheels for collected packages: sqlalchemy\n",
    "  Running setup.py bdist_wheel for sqlalchemy ... done\n",
    "  Stored in directory: /Users/seawolf/Library/Caches/pip/wheels/cb/4a/f4/ddc8af56687863cf5dc3fedc2b71ba496083886d2b1e23b462\n",
    "Successfully built sqlalchemy\n",
    "Installing collected packages: sqlalchemy\n",
    "Successfully installed sqlalchemy-1.2.1\n",
    "```"
   ]
  },
  {
   "cell_type": "markdown",
   "metadata": {},
   "source": [
    "## Connecting to the Database\n",
    "\n",
    "For this tutorial we will create an in-memory database; this database will not be saved to disk and will be lost as soon as our program exits. See below for disk-backed databases and for patterns to make connecting easier in a big program."
   ]
  },
  {
   "cell_type": "code",
   "execution_count": 1,
   "metadata": {},
   "outputs": [],
   "source": [
    "from sqlalchemy import create_engine\n",
    "\n",
    "engine = create_engine('sqlite:///:memory:', echo=True)"
   ]
  },
  {
   "cell_type": "markdown",
   "metadata": {},
   "source": [
    "`engine` is our database reference:"
   ]
  },
  {
   "cell_type": "code",
   "execution_count": 2,
   "metadata": {},
   "outputs": [
    {
     "name": "stdout",
     "output_type": "stream",
     "text": [
      "Engine(sqlite:///:memory:) <class 'sqlalchemy.engine.base.Engine'>\n"
     ]
    }
   ],
   "source": [
    "print(engine, type(engine))"
   ]
  },
  {
   "cell_type": "markdown",
   "metadata": {},
   "source": [
    "We also need a database session to interact with:"
   ]
  },
  {
   "cell_type": "code",
   "execution_count": 3,
   "metadata": {},
   "outputs": [],
   "source": [
    "from sqlalchemy.orm import sessionmaker\n",
    "\n",
    "Session = sessionmaker(bind=engine, autocommit=True)\n",
    "session = Session()"
   ]
  },
  {
   "cell_type": "markdown",
   "metadata": {},
   "source": [
    "`session` is our starting point to initiate all database interactions:"
   ]
  },
  {
   "cell_type": "code",
   "execution_count": 4,
   "metadata": {},
   "outputs": [
    {
     "name": "stdout",
     "output_type": "stream",
     "text": [
      "<sqlalchemy.orm.session.Session object at 0x11237c610> <class 'sqlalchemy.orm.session.Session'>\n"
     ]
    }
   ],
   "source": [
    "print(session, type(session))"
   ]
  },
  {
   "cell_type": "markdown",
   "metadata": {},
   "source": [
    "## Defining an Object Type\n",
    "\n",
    "Objects are defined using classes (just like regular Python classes) that inherit from a `sqlalchemy` construct called a `declarative_base`:"
   ]
  },
  {
   "cell_type": "code",
   "execution_count": 5,
   "metadata": {},
   "outputs": [],
   "source": [
    "from sqlalchemy.ext.declarative import declarative_base\n",
    "\n",
    "from sqlalchemy import Column\n",
    "from sqlalchemy import Integer\n",
    "from sqlalchemy import String\n",
    "\n",
    "Base = declarative_base()\n",
    "\n",
    "class Person(Base):\n",
    "    \n",
    "    __tablename__ = 'person'\n",
    "    \n",
    "    id = Column(Integer, primary_key=True)\n",
    "    first_name = Column(String(25), nullable=False)\n",
    "    last_name = Column(String(25), nullable=False)\n",
    "    alter_ego = Column(String)\n"
   ]
  },
  {
   "cell_type": "markdown",
   "metadata": {},
   "source": [
    "There are a few things going on here:\n",
    "\n",
    "1. we create a base class called `Base` by calling `sqlalchemy.ext.declarative.declarative_base()` once. This `Base` will be the base class for all of our models (we don't have to create a new one for each model).\n",
    "1. we create a class `Person` that inherits from `Base`\n",
    "    1. we specify the name that should be used in the database to store objects of type `Person`\n",
    "    1. we give the person an **primary key**, the authoritative way to reference the person throughout our program\n",
    "    1. we define the columns that make up a `Person`, in this case first name, last name, and a way to store how we met the person\n",
    "\n",
    "We can inspect the `Person` class to see how SQL Alchemy understands it:"
   ]
  },
  {
   "cell_type": "code",
   "execution_count": 6,
   "metadata": {},
   "outputs": [
    {
     "data": {
      "text/plain": [
       "Table('person', MetaData(bind=None), Column('id', Integer(), table=<person>, primary_key=True, nullable=False), Column('first_name', String(length=25), table=<person>, nullable=False), Column('last_name', String(length=25), table=<person>, nullable=False), Column('alter_ego', String(), table=<person>), schema=None)"
      ]
     },
     "execution_count": 6,
     "metadata": {},
     "output_type": "execute_result"
    }
   ],
   "source": [
    "Person.__table__"
   ]
  },
  {
   "cell_type": "markdown",
   "metadata": {},
   "source": [
    "We also need to tell our database to create the table necessary to store `Person` objects:"
   ]
  },
  {
   "cell_type": "code",
   "execution_count": 7,
   "metadata": {},
   "outputs": [
    {
     "name": "stdout",
     "output_type": "stream",
     "text": [
      "2019-07-09 16:19:35,574 INFO sqlalchemy.engine.base.Engine SELECT CAST('test plain returns' AS VARCHAR(60)) AS anon_1\n",
      "2019-07-09 16:19:35,575 INFO sqlalchemy.engine.base.Engine ()\n",
      "2019-07-09 16:19:35,577 INFO sqlalchemy.engine.base.Engine SELECT CAST('test unicode returns' AS VARCHAR(60)) AS anon_1\n",
      "2019-07-09 16:19:35,578 INFO sqlalchemy.engine.base.Engine ()\n",
      "2019-07-09 16:19:35,579 INFO sqlalchemy.engine.base.Engine PRAGMA table_info(\"person\")\n",
      "2019-07-09 16:19:35,580 INFO sqlalchemy.engine.base.Engine ()\n",
      "2019-07-09 16:19:35,582 INFO sqlalchemy.engine.base.Engine \n",
      "CREATE TABLE person (\n",
      "\tid INTEGER NOT NULL, \n",
      "\tfirst_name VARCHAR(25) NOT NULL, \n",
      "\tlast_name VARCHAR(25) NOT NULL, \n",
      "\talter_ego VARCHAR, \n",
      "\tPRIMARY KEY (id)\n",
      ")\n",
      "\n",
      "\n",
      "2019-07-09 16:19:35,582 INFO sqlalchemy.engine.base.Engine ()\n",
      "2019-07-09 16:19:35,584 INFO sqlalchemy.engine.base.Engine COMMIT\n"
     ]
    }
   ],
   "source": [
    "Base.metadata.create_all(engine)"
   ]
  },
  {
   "cell_type": "markdown",
   "metadata": {},
   "source": [
    "## Creating an Object\n",
    "\n",
    "Now that we have our `Person` class, we can create objects fairly simply:"
   ]
  },
  {
   "cell_type": "code",
   "execution_count": 8,
   "metadata": {},
   "outputs": [
    {
     "name": "stdout",
     "output_type": "stream",
     "text": [
      "Bruce\n",
      "None\n"
     ]
    }
   ],
   "source": [
    "bruce_wayne = Person(first_name='Bruce', last_name='Wayne')\n",
    "print(bruce_wayne.first_name)\n",
    "print(bruce_wayne.id)"
   ]
  },
  {
   "cell_type": "markdown",
   "metadata": {},
   "source": [
    "Then we save it:"
   ]
  },
  {
   "cell_type": "code",
   "execution_count": 9,
   "metadata": {},
   "outputs": [
    {
     "name": "stdout",
     "output_type": "stream",
     "text": [
      "2019-07-09 16:19:35,597 INFO sqlalchemy.engine.base.Engine BEGIN (implicit)\n",
      "2019-07-09 16:19:35,599 INFO sqlalchemy.engine.base.Engine INSERT INTO person (first_name, last_name, alter_ego) VALUES (?, ?, ?)\n",
      "2019-07-09 16:19:35,600 INFO sqlalchemy.engine.base.Engine ('Bruce', 'Wayne', None)\n",
      "2019-07-09 16:19:35,603 INFO sqlalchemy.engine.base.Engine COMMIT\n",
      "2019-07-09 16:19:35,605 INFO sqlalchemy.engine.base.Engine SELECT person.id AS person_id, person.first_name AS person_first_name, person.last_name AS person_last_name, person.alter_ego AS person_alter_ego \n",
      "FROM person \n",
      "WHERE person.id = ?\n",
      "2019-07-09 16:19:35,606 INFO sqlalchemy.engine.base.Engine (1,)\n",
      "1\n"
     ]
    }
   ],
   "source": [
    "session.add(bruce_wayne)\n",
    "session.flush()\n",
    "print(bruce_wayne.id)"
   ]
  },
  {
   "cell_type": "markdown",
   "metadata": {},
   "source": [
    "Let's add a few more people:"
   ]
  },
  {
   "cell_type": "code",
   "execution_count": 10,
   "metadata": {},
   "outputs": [
    {
     "name": "stdout",
     "output_type": "stream",
     "text": [
      "2019-07-09 16:19:35,613 INFO sqlalchemy.engine.base.Engine BEGIN (implicit)\n",
      "2019-07-09 16:19:35,615 INFO sqlalchemy.engine.base.Engine INSERT INTO person (first_name, last_name, alter_ego) VALUES (?, ?, ?)\n",
      "2019-07-09 16:19:35,616 INFO sqlalchemy.engine.base.Engine ('Tony', 'Stark', None)\n",
      "2019-07-09 16:19:35,617 INFO sqlalchemy.engine.base.Engine INSERT INTO person (first_name, last_name, alter_ego) VALUES (?, ?, ?)\n",
      "2019-07-09 16:19:35,618 INFO sqlalchemy.engine.base.Engine ('Natasha', 'Romanova', None)\n",
      "2019-07-09 16:19:35,619 INFO sqlalchemy.engine.base.Engine COMMIT\n"
     ]
    }
   ],
   "source": [
    "session.add(Person(first_name='Tony', last_name='Stark'))\n",
    "session.add(Person(first_name='Natasha', last_name='Romanova'))\n",
    "session.flush()"
   ]
  },
  {
   "cell_type": "markdown",
   "metadata": {},
   "source": [
    "**Note:** SQL Alchemy prevents me from creating objects that do not contain the required fields. You can see that I left out values for `alter_ego` above, but I cannot save an object that is missing a value for a field for which `nullable == False`:"
   ]
  },
  {
   "cell_type": "code",
   "execution_count": 11,
   "metadata": {},
   "outputs": [],
   "source": [
    "# session.add(Person(first_name='Bob')) <- this is missing the last_name field\n",
    "# session.flush() <- this will error because the previous object won't pass validation"
   ]
  },
  {
   "cell_type": "markdown",
   "metadata": {},
   "source": [
    "## Retrieving Objects\n",
    "\n",
    "Now that I have objects in my database, I can query and retrieve them:"
   ]
  },
  {
   "cell_type": "code",
   "execution_count": 12,
   "metadata": {},
   "outputs": [
    {
     "name": "stdout",
     "output_type": "stream",
     "text": [
      "2019-07-09 16:19:35,630 INFO sqlalchemy.engine.base.Engine SELECT person.id AS person_id, person.first_name AS person_first_name, person.last_name AS person_last_name, person.alter_ego AS person_alter_ego \n",
      "FROM person \n",
      "WHERE person.first_name = ?\n",
      "2019-07-09 16:19:35,631 INFO sqlalchemy.engine.base.Engine ('Bruce',)\n",
      "1\n",
      "Wayne\n"
     ]
    }
   ],
   "source": [
    "people = session.query(Person).filter(Person.first_name=='Bruce').all()\n",
    "print(len(people))\n",
    "bruce1 = people[0]\n",
    "print(bruce1.last_name)"
   ]
  },
  {
   "cell_type": "markdown",
   "metadata": {},
   "source": [
    "What we just did:\n",
    "\n",
    "1. queried the database for any `Person` object:\n",
    "    1. that has the first name \"Bruce\"\n",
    "    1. ... retrieve all of them\n",
    "1. set `bruce1` to the value of the first entity retrieved\n",
    "\n",
    "The `query` method is extremely powerful, allowing you to write just about any query you would want to retrieve whatever subset of your data you care about. For instance, to get *just* the first names of all people in the database:"
   ]
  },
  {
   "cell_type": "code",
   "execution_count": 13,
   "metadata": {},
   "outputs": [
    {
     "name": "stdout",
     "output_type": "stream",
     "text": [
      "2019-07-09 16:19:35,637 INFO sqlalchemy.engine.base.Engine SELECT person.first_name AS person_first_name \n",
      "FROM person\n",
      "2019-07-09 16:19:35,638 INFO sqlalchemy.engine.base.Engine ()\n",
      "('Bruce',)\n",
      "('Tony',)\n",
      "('Natasha',)\n"
     ]
    }
   ],
   "source": [
    "for name in session.query(Person.first_name).all():\n",
    "    print(name)"
   ]
  },
  {
   "cell_type": "markdown",
   "metadata": {},
   "source": [
    "## Updating Objects\n",
    "\n",
    "Once you have retrieved the object you are interested in, you update it by changing the properties that need changing and re-saving:"
   ]
  },
  {
   "cell_type": "code",
   "execution_count": 14,
   "metadata": {},
   "outputs": [
    {
     "name": "stdout",
     "output_type": "stream",
     "text": [
      "IdentitySet([<__main__.Person object at 0x10bb62588>])\n",
      "2019-07-09 16:19:35,647 INFO sqlalchemy.engine.base.Engine BEGIN (implicit)\n",
      "2019-07-09 16:19:35,650 INFO sqlalchemy.engine.base.Engine UPDATE person SET alter_ego=? WHERE person.id = ?\n",
      "2019-07-09 16:19:35,650 INFO sqlalchemy.engine.base.Engine ('Batman', 1)\n",
      "2019-07-09 16:19:35,651 INFO sqlalchemy.engine.base.Engine COMMIT\n",
      "IdentitySet([])\n"
     ]
    }
   ],
   "source": [
    "bruce1.alter_ego = 'Batman'\n",
    "print(session.dirty)\n",
    "session.flush()\n",
    "print(session.dirty)"
   ]
  },
  {
   "cell_type": "markdown",
   "metadata": {},
   "source": [
    "Now we can query for all unique alter egos that we have identified:"
   ]
  },
  {
   "cell_type": "code",
   "execution_count": 15,
   "metadata": {},
   "outputs": [
    {
     "name": "stdout",
     "output_type": "stream",
     "text": [
      "2019-07-09 16:19:35,660 INFO sqlalchemy.engine.base.Engine SELECT person.alter_ego AS person_alter_ego, person.first_name AS person_first_name, person.last_name AS person_last_name \n",
      "FROM person \n",
      "WHERE person.alter_ego IS NOT NULL\n",
      "2019-07-09 16:19:35,662 INFO sqlalchemy.engine.base.Engine ()\n",
      "('Batman', 'Bruce', 'Wayne')\n"
     ]
    }
   ],
   "source": [
    "for person in session.query(\n",
    "        Person.alter_ego,\n",
    "        Person.first_name,\n",
    "        Person.last_name\n",
    "        ).filter(Person.alter_ego != None).all():\n",
    "    print(person)"
   ]
  },
  {
   "cell_type": "markdown",
   "metadata": {},
   "source": [
    "## Deleting Objects\n",
    "\n",
    "Deleting objects is also simple:"
   ]
  },
  {
   "cell_type": "code",
   "execution_count": 16,
   "metadata": {},
   "outputs": [
    {
     "name": "stdout",
     "output_type": "stream",
     "text": [
      "2019-07-09 16:19:35,672 INFO sqlalchemy.engine.base.Engine SELECT count(*) AS count_1 \n",
      "FROM (SELECT person.id AS person_id, person.first_name AS person_first_name, person.last_name AS person_last_name, person.alter_ego AS person_alter_ego \n",
      "FROM person \n",
      "WHERE person.first_name = ?) AS anon_1\n",
      "2019-07-09 16:19:35,673 INFO sqlalchemy.engine.base.Engine ('Bruce',)\n",
      "1\n",
      "2019-07-09 16:19:35,676 INFO sqlalchemy.engine.base.Engine BEGIN (implicit)\n",
      "2019-07-09 16:19:35,678 INFO sqlalchemy.engine.base.Engine SELECT person.id AS person_id, person.first_name AS person_first_name, person.last_name AS person_last_name, person.alter_ego AS person_alter_ego \n",
      "FROM person \n",
      "WHERE person.id = ?\n",
      "2019-07-09 16:19:35,679 INFO sqlalchemy.engine.base.Engine (1,)\n",
      "2019-07-09 16:19:35,680 INFO sqlalchemy.engine.base.Engine DELETE FROM person WHERE person.id = ?\n",
      "2019-07-09 16:19:35,681 INFO sqlalchemy.engine.base.Engine (1,)\n",
      "2019-07-09 16:19:35,683 INFO sqlalchemy.engine.base.Engine COMMIT\n",
      "2019-07-09 16:19:35,684 INFO sqlalchemy.engine.base.Engine SELECT count(*) AS count_1 \n",
      "FROM (SELECT person.id AS person_id, person.first_name AS person_first_name, person.last_name AS person_last_name, person.alter_ego AS person_alter_ego \n",
      "FROM person \n",
      "WHERE person.first_name = ?) AS anon_1\n",
      "2019-07-09 16:19:35,685 INFO sqlalchemy.engine.base.Engine ('Bruce',)\n",
      "0\n"
     ]
    }
   ],
   "source": [
    "print(session.query(Person).filter(Person.first_name=='Bruce').count())\n",
    "session.delete(bruce1)\n",
    "print(session.query(Person).filter(Person.first_name=='Bruce').count())"
   ]
  },
  {
   "cell_type": "markdown",
   "metadata": {},
   "source": [
    "## Other Significant Concepts\n",
    "\n",
    "We are skipping a *lot* of the meat of SQL Alchemy, but it has ways to handle all of the following database concepts:\n",
    "\n",
    "* table relationships using foreign keys\n",
    "* full transaction support\n",
    "* persisting to many database backends, including MySQL and PostgreSQL\n",
    "* ... and a whole lot more"
   ]
  },
  {
   "cell_type": "markdown",
   "metadata": {},
   "source": [
    "## Saving Your Database to Disk\n",
    "\n",
    "If you want your database saved to disk instead of being stored in memory, make the following change to the statement where we create the `engine` object:\n",
    "\n",
    "```python\n",
    "engine = create_engine('sqlite:///path/to/file', echo=True)\n",
    "```"
   ]
  },
  {
   "cell_type": "markdown",
   "metadata": {},
   "source": [
    "## Basic Program Pattern\n",
    "\n",
    "The following template can be used to write programs using `sqlalchemy`:\n",
    "\n",
    "### models.py\n",
    "\n",
    "Create a file called `models.py` with the following:\n",
    "\n",
    "```python\n",
    "import os\n",
    "\n",
    "from sqlalchemy import create_engine\n",
    "from sqlalchemy import Boolean\n",
    "from sqlalchemy import Column\n",
    "from sqlalchemy import DateTime\n",
    "from sqlalchemy import ForeignKey\n",
    "from sqlalchemy import Integer\n",
    "from sqlalchemy import String\n",
    "from sqlalchemy import UniqueConstraint\n",
    "from sqlalchemy.ext.declarative import declarative_base\n",
    "from sqlalchemy.orm import relationship\n",
    "\n",
    "BASE_DIR = os.path.basename(__name__)\n",
    "FILENAME = 'database.sqlite'\n",
    "\n",
    "db_name = os.path.join(BASE_DIR, FILENAME)\n",
    "\n",
    "engine = create_engine('sqlite:///{}'.format(db_name))\n",
    "\n",
    "Base = declarative_base()\n",
    "\n",
    "#\n",
    "# put your models here\n",
    "#\n",
    "\n",
    "# class MyModel...\n",
    "```\n",
    "\n",
    "### main.py\n",
    "\n",
    "Create a file called `main.py` with the following:\n",
    "\n",
    "```python\n",
    "from sqlalchemy.orm import sessionmaker\n",
    "\n",
    "from models import engine\n",
    "from models import MyModel\n",
    "\n",
    "with sessionmaker(bind=engine, autocommit=True)() as session:\n",
    "    for person in session.query(Person).all():\n",
    "        print(person)\n",
    "    # put your fancy program stuff here\n",
    "```"
   ]
  },
  {
   "cell_type": "markdown",
   "metadata": {},
   "source": [
    "## References\n",
    "\n",
    "* [SQL Alchemy Tutorial](https://docs.sqlalchemy.org/en/latest/orm/tutorial.html)\n",
    "* [SQL Alchemy Documentation](https://docs.sqlalchemy.org)"
   ]
  }
 ],
 "metadata": {
  "kernelspec": {
   "display_name": "Python 3",
   "language": "python",
   "name": "python3"
  },
  "language_info": {
   "codemirror_mode": {
    "name": "ipython",
    "version": 3
   },
   "file_extension": ".py",
   "mimetype": "text/x-python",
   "name": "python",
   "nbconvert_exporter": "python",
   "pygments_lexer": "ipython3",
   "version": "3.7.5"
  }
 },
 "nbformat": 4,
 "nbformat_minor": 2
}
