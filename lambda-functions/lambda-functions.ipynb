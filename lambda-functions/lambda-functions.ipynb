{
 "cells": [
  {
   "cell_type": "markdown",
   "metadata": {},
   "source": [
    "# Lambda Functions in Python\n",
    "\n",
    "While most users are comfortable reading and writing functions in Python, not as many understand **lambda functions** specifically. What are they? When and how do you use them?\n",
    "\n",
    "## What is a Lambda Function?\n",
    "\n",
    "A Lambda function (or just \"lambda\") is a function that is defined inline and anonymously. Like any other function, it can be called, it can accept parameters, and it can return a value. Unlike other functions, it's cryptic and non-pythonic.\n",
    "\n",
    "A simple lambda function would be the one that returns `'hello world'`:"
   ]
  },
  {
   "cell_type": "code",
   "execution_count": 1,
   "metadata": {},
   "outputs": [
    {
     "name": "stdout",
     "output_type": "stream",
     "text": [
      "hello world\n"
     ]
    }
   ],
   "source": [
    "hw = lambda: 'hello world'\n",
    "print(hw())"
   ]
  },
  {
   "cell_type": "markdown",
   "metadata": {},
   "source": [
    "While this may look odd, it's really just a function definition. `hw` is assigned a function that takes zero parameters and returns the string `'hello world'`. The same function in Python would be:\n",
    "\n",
    "```python\n",
    "def hw():\n",
    "    return 'hello world'\n",
    "```\n",
    "\n",
    "Note that the body of the lambda does not include the `return` keyword. This is because the only valid body for a lambda is a single expression which is executed and returned.\n",
    "\n",
    "So what is an expression? Think of anything that could go on the right side of `x = <...>`. Example expressions:\n",
    "\n",
    "| expression | value |\n",
    "| :-- | :-- |\n",
    "| `2` | `2` |\n",
    "| `2 + 2` | `4` |\n",
    "| `True` | `True` |\n",
    "| `i < 23` | (either `True` or `False` depending on the value of `i`) |\n",
    "| `json.dumps(json.loads(s), indent=2)` | the nicely-indented formatting of the json-encoded object in `s` |\n",
    "\n",
    "In each of the above cases, the final value of the expression is returned by the execution environment. In the case of an assignment (`x = <expression>`), the named variable is set to be that value. In a lambda, result of the expression becomes the return value of the function.\n",
    "\n",
    "Lambdas can take parameters:"
   ]
  },
  {
   "cell_type": "code",
   "execution_count": 2,
   "metadata": {},
   "outputs": [
    {
     "data": {
      "text/plain": [
       "11"
      ]
     },
     "execution_count": 2,
     "metadata": {},
     "output_type": "execute_result"
    }
   ],
   "source": [
    "fx = lambda m, x, b: m * x + b\n",
    "fx(2, 3, 5)"
   ]
  },
  {
   "cell_type": "markdown",
   "metadata": {},
   "source": [
    "... and named parameters with default values:"
   ]
  },
  {
   "cell_type": "code",
   "execution_count": 3,
   "metadata": {},
   "outputs": [
    {
     "data": {
      "text/plain": [
       "3.0"
      ]
     },
     "execution_count": 3,
     "metadata": {},
     "output_type": "execute_result"
    }
   ],
   "source": [
    "compute_mileage = lambda miles, rate=0.25: miles * rate\n",
    "compute_mileage(12)"
   ]
  },
  {
   "cell_type": "code",
   "execution_count": 4,
   "metadata": {},
   "outputs": [
    {
     "data": {
      "text/plain": [
       "9.0"
      ]
     },
     "execution_count": 4,
     "metadata": {},
     "output_type": "execute_result"
    }
   ],
   "source": [
    "compute_mileage(12, .75)"
   ]
  },
  {
   "cell_type": "markdown",
   "metadata": {},
   "source": [
    "Parameters immediately follow the `lambda` keyword without parentheses; in all other regards, they are the same as function parameters inside the parentheses in a regular function."
   ]
  },
  {
   "cell_type": "markdown",
   "metadata": {},
   "source": [
    "## Example\n",
    "\n",
    "Let's say we have the following data:"
   ]
  },
  {
   "cell_type": "code",
   "execution_count": 5,
   "metadata": {},
   "outputs": [
    {
     "name": "stdout",
     "output_type": "stream",
     "text": [
      "[\n",
      "  {\n",
      "    \"id\": 1,\n",
      "    \"name\": \"alice\",\n",
      "    \"city\": \"honolulu\",\n",
      "    \"children\": 3\n",
      "  },\n",
      "  {\n",
      "    \"id\": 2,\n",
      "    \"name\": \"bob\",\n",
      "    \"city\": \"austin\",\n",
      "    \"children\": 5\n",
      "  },\n",
      "  {\n",
      "    \"id\": 3,\n",
      "    \"name\": \"charlie\",\n",
      "    \"city\": \"seattle\",\n",
      "    \"children\": 2\n",
      "  },\n",
      "  {\n",
      "    \"id\": 4,\n",
      "    \"name\": \"alex\",\n",
      "    \"city\": \"new york\",\n",
      "    \"children\": 0\n",
      "  }\n",
      "]\n"
     ]
    }
   ],
   "source": [
    "data = [\n",
    "    dict(id=u[0], name=u[1], city=u[2], children=u[3])\n",
    "    for u in (\n",
    "        (1, 'alice', 'honolulu', 3),\n",
    "        (2, 'bob', 'austin', 5),\n",
    "        (3, 'charlie', 'seattle', 2),\n",
    "        (4, 'alex', 'new york', 0),\n",
    "    )\n",
    "]\n",
    "\n",
    "import json\n",
    "\n",
    "print(json.dumps(data, indent=2))"
   ]
  },
  {
   "cell_type": "markdown",
   "metadata": {},
   "source": [
    "If we wanted to sort these by city, we first need to be able to retrieve a city from an object:"
   ]
  },
  {
   "cell_type": "code",
   "execution_count": 6,
   "metadata": {},
   "outputs": [
    {
     "name": "stdout",
     "output_type": "stream",
     "text": [
      "honolulu\n"
     ]
    }
   ],
   "source": [
    "def get_key(value):\n",
    "    return value['city']\n",
    "\n",
    "print(get_key(data[0]))"
   ]
  },
  {
   "cell_type": "markdown",
   "metadata": {},
   "source": [
    "Then we could sort it like this:"
   ]
  },
  {
   "cell_type": "code",
   "execution_count": 7,
   "metadata": {},
   "outputs": [
    {
     "name": "stdout",
     "output_type": "stream",
     "text": [
      "{'id': 2, 'name': 'bob', 'city': 'austin', 'children': 5}\n",
      "{'id': 1, 'name': 'alice', 'city': 'honolulu', 'children': 3}\n",
      "{'id': 4, 'name': 'alex', 'city': 'new york', 'children': 0}\n",
      "{'id': 3, 'name': 'charlie', 'city': 'seattle', 'children': 2}\n"
     ]
    }
   ],
   "source": [
    "for user in sorted(data, key=get_key):\n",
    "    print(user)"
   ]
  },
  {
   "cell_type": "markdown",
   "metadata": {},
   "source": [
    "... or you could replace that separate function with a lambda function:"
   ]
  },
  {
   "cell_type": "code",
   "execution_count": 8,
   "metadata": {},
   "outputs": [
    {
     "name": "stdout",
     "output_type": "stream",
     "text": [
      "{'id': 2, 'name': 'bob', 'city': 'austin', 'children': 5}\n",
      "{'id': 1, 'name': 'alice', 'city': 'honolulu', 'children': 3}\n",
      "{'id': 4, 'name': 'alex', 'city': 'new york', 'children': 0}\n",
      "{'id': 3, 'name': 'charlie', 'city': 'seattle', 'children': 2}\n"
     ]
    }
   ],
   "source": [
    "for user in sorted(data, key=lambda value: value['city']):\n",
    "    print(user)"
   ]
  },
  {
   "cell_type": "markdown",
   "metadata": {},
   "source": [
    "You could also search for users who's name begins with the letter `a`:"
   ]
  },
  {
   "cell_type": "code",
   "execution_count": 9,
   "metadata": {},
   "outputs": [
    {
     "name": "stdout",
     "output_type": "stream",
     "text": [
      "{'id': 1, 'name': 'alice', 'city': 'honolulu', 'children': 3}\n",
      "{'id': 4, 'name': 'alex', 'city': 'new york', 'children': 0}\n"
     ]
    }
   ],
   "source": [
    "for user in filter(lambda x: x['name'][0] == 'a', data):\n",
    "    print(user)"
   ]
  },
  {
   "cell_type": "markdown",
   "metadata": {},
   "source": [
    "## When NOT to Use Lambdas\n",
    "\n",
    "Lambdas are powerful, but they are also hard to read and make sense of for many Python developers, and so they are considered a code smell in many circumstances:\n",
    "\n",
    "* the function is used in more than one place\n",
    "* the function does more than one thing\n",
    "* the function return value can't be defined by a straightforward expression\n",
    "* you need a docstring\n",
    "* you want to be able to test anything about the function\n",
    "\n",
    "In each of those cases, you must define the function at the module (or class) level, and for that the lambda syntax does not add value and should not be used.\n",
    "\n",
    "That leaves basically one time to use them: when you need to pass a simple, one-off function as a parameter to a method.\n",
    "\n",
    "For a more thorough discussion of this, see [Overusing lambda expressions in Python](https://treyhunner.com/2018/09/stop-writing-lambda-expressions/)."
   ]
  },
  {
   "cell_type": "markdown",
   "metadata": {},
   "source": [
    "## References\n",
    "\n",
    "* [`contextlib` — Utilities for with-statement contexts](https://docs.python.org/3/library/contextlib.html)\n",
    "* [PEP 343 -- The \"with\" statement](https://www.python.org/dev/peps/pep-0343/)\n",
    "* [Overusing lambda expressions in Python](https://treyhunner.com/2018/09/stop-writing-lambda-expressions/)\n"
   ]
  }
 ],
 "metadata": {
  "interpreter": {
   "hash": "aee8b7b246df8f9039afb4144a1f6fd8d2ca17a180786b69acc140d282b71a49"
  },
  "kernelspec": {
   "display_name": "Python 3",
   "language": "python",
   "name": "python3"
  },
  "language_info": {
   "codemirror_mode": {
    "name": "ipython",
    "version": 3
   },
   "file_extension": ".py",
   "mimetype": "text/x-python",
   "name": "python",
   "nbconvert_exporter": "python",
   "pygments_lexer": "ipython3",
   "version": "3.9.5"
  }
 },
 "nbformat": 4,
 "nbformat_minor": 2
}
