{
 "cells": [
  {
   "cell_type": "markdown",
   "metadata": {},
   "source": [
    "# Unit Testing in Python\n",
    "\n",
    "**Writing and Testing Maintainable Code**\n",
    "\n",
    "Here we will discuss and demonstrate testing a factorial function. `factorial(n)` is a function that computes the product of all values from 1 to n, so for instance:\n",
    "\n",
    "| n | factorial(n) |\n",
    "|--|--|\n",
    "| 1 | 1 |\n",
    "| 2 | 2 |\n",
    "| 3 | 6 |\n",
    "| 4 | 24 |\n",
    "\n",
    "## Base Implementation\n",
    "\n",
    "Let's assume our function looks like this:"
   ]
  },
  {
   "cell_type": "code",
   "execution_count": 1,
   "metadata": {},
   "outputs": [],
   "source": [
    "def factorial(n):\n",
    "    if n == 1:\n",
    "        return n\n",
    "    return n * factorial(n - 1)"
   ]
  },
  {
   "cell_type": "markdown",
   "metadata": {},
   "source": [
    "## What to Test\n",
    "\n",
    "You should always test the happy path, but also ways things can go wrong:\n",
    "\n",
    "* happy path\n",
    "  * base case\n",
    "  * typical cases\n",
    "* sad path\n",
    "  * boundary conditions\n",
    "  * invalid input\n",
    "      * badly-formed input\n",
    "      * malicious input\n",
    "  * null values\n",
    "  * exceptional cases\n"
   ]
  },
  {
   "cell_type": "markdown",
   "metadata": {},
   "source": [
    "## Test Setup\n",
    "\n",
    "To get started with unit testing, we simply need to import the `unittest` package. This is built-in to all modern versions of python."
   ]
  },
  {
   "cell_type": "code",
   "execution_count": 2,
   "metadata": {},
   "outputs": [],
   "source": [
    "import unittest"
   ]
  },
  {
   "cell_type": "markdown",
   "metadata": {},
   "source": [
    "Tests can now be written by subclassing `unittest.TestCase`:"
   ]
  },
  {
   "cell_type": "code",
   "execution_count": 3,
   "metadata": {},
   "outputs": [],
   "source": [
    "class TestFactorial(unittest.TestCase):\n",
    "    \n",
    "    def test_fail(self):\n",
    "        self.fail('intentional failure')"
   ]
  },
  {
   "cell_type": "markdown",
   "metadata": {},
   "source": [
    "## Happy Path Testing\n",
    "\n",
    "Let's write the tests described above for base case and typical cases:"
   ]
  },
  {
   "cell_type": "code",
   "execution_count": 4,
   "metadata": {},
   "outputs": [],
   "source": [
    "class TestFactorial(unittest.TestCase):\n",
    "    \n",
    "    def test_base_case(self):\n",
    "        self.assertEqual(factorial(1), 1)\n",
    "    \n",
    "    def test_some_values(self):\n",
    "        self.assertEqual(factorial(2), 2)\n",
    "        self.assertEqual(factorial(3), 6)\n",
    "        self.assertEqual(factorial(4), 24)\n",
    "        self.assertEqual(factorial(10), 3628800)"
   ]
  },
  {
   "cell_type": "markdown",
   "metadata": {},
   "source": [
    "**NOTE:** running unittests within Jupyter is different than running them on the command line.\n",
    "\n",
    "Let's execute our test class so far:"
   ]
  },
  {
   "cell_type": "code",
   "execution_count": 5,
   "metadata": {},
   "outputs": [
    {
     "name": "stderr",
     "output_type": "stream",
     "text": [
      "..\n",
      "----------------------------------------------------------------------\n",
      "Ran 2 tests in 0.001s\n",
      "\n",
      "OK\n"
     ]
    }
   ],
   "source": [
    "def run_tests():\n",
    "    test_suite = unittest.TestSuite()\n",
    "    test_suite.addTest(unittest.makeSuite(TestFactorial))\n",
    "    runner = unittest.TextTestRunner()\n",
    "    runner.run(test_suite)\n",
    "\n",
    "    \n",
    "run_tests()"
   ]
  },
  {
   "cell_type": "markdown",
   "metadata": {},
   "source": [
    "So far, so good!"
   ]
  },
  {
   "cell_type": "markdown",
   "metadata": {},
   "source": [
    "## Sad Path Testing\n",
    "\n",
    "```python\n",
    "class TestFactorial(unittest.TestCase):\n",
    "\n",
    "    # ...\n",
    "\n",
    "    def test_boundary(self):\n",
    "        self.assertEqual(factorial(0), 1)\n",
    "\n",
    "    def test_negative_input(self):\n",
    "        with self.assertRaises(ValueError):\n",
    "            factorial(-1)\n",
    "\n",
    "    def test_non_integer(self):\n",
    "        with self.assertRaises(TypeError):\n",
    "            factorial('bob')\n",
    "```\n",
    "\n",
    "Let's add those to the test class and re-run the tests:"
   ]
  },
  {
   "cell_type": "code",
   "execution_count": 6,
   "metadata": {},
   "outputs": [
    {
     "name": "stderr",
     "output_type": "stream",
     "text": [
      ".EE..\n",
      "======================================================================\n",
      "ERROR: test_boundary (__main__.TestFactorial)\n",
      "----------------------------------------------------------------------\n",
      "Traceback (most recent call last):\n",
      "  File \"<ipython-input-6-72d9ae6f1c6e>\", line 13, in test_boundary\n",
      "    self.assertEqual(factorial(0), 1)\n",
      "  File \"<ipython-input-1-80b17e88eb28>\", line 4, in factorial\n",
      "    return n * factorial(n - 1)\n",
      "  File \"<ipython-input-1-80b17e88eb28>\", line 4, in factorial\n",
      "    return n * factorial(n - 1)\n",
      "  File \"<ipython-input-1-80b17e88eb28>\", line 4, in factorial\n",
      "    return n * factorial(n - 1)\n",
      "  [Previous line repeated 2936 more times]\n",
      "  File \"<ipython-input-1-80b17e88eb28>\", line 2, in factorial\n",
      "    if n == 1:\n",
      "RecursionError: maximum recursion depth exceeded in comparison\n",
      "\n",
      "======================================================================\n",
      "ERROR: test_negative_input (__main__.TestFactorial)\n",
      "----------------------------------------------------------------------\n",
      "Traceback (most recent call last):\n",
      "  File \"<ipython-input-6-72d9ae6f1c6e>\", line 17, in test_negative_input\n",
      "    factorial(-1)\n",
      "  File \"<ipython-input-1-80b17e88eb28>\", line 4, in factorial\n",
      "    return n * factorial(n - 1)\n",
      "  File \"<ipython-input-1-80b17e88eb28>\", line 4, in factorial\n",
      "    return n * factorial(n - 1)\n",
      "  File \"<ipython-input-1-80b17e88eb28>\", line 4, in factorial\n",
      "    return n * factorial(n - 1)\n",
      "  [Previous line repeated 2936 more times]\n",
      "  File \"<ipython-input-1-80b17e88eb28>\", line 2, in factorial\n",
      "    if n == 1:\n",
      "RecursionError: maximum recursion depth exceeded in comparison\n",
      "\n",
      "----------------------------------------------------------------------\n",
      "Ran 5 tests in 0.029s\n",
      "\n",
      "FAILED (errors=2)\n"
     ]
    }
   ],
   "source": [
    "class TestFactorial(unittest.TestCase):\n",
    "    \n",
    "    def test_base_case(self):\n",
    "        self.assertEqual(factorial(1), 1)\n",
    "    \n",
    "    def test_some_values(self):\n",
    "        self.assertEqual(factorial(2), 2)\n",
    "        self.assertEqual(factorial(3), 6)\n",
    "        self.assertEqual(factorial(4), 24)\n",
    "        self.assertEqual(factorial(10), 3628800)\n",
    "\n",
    "    def test_boundary(self):\n",
    "        self.assertEqual(factorial(0), 1)\n",
    "\n",
    "    def test_negative_input(self):\n",
    "        with self.assertRaises(ValueError):\n",
    "            factorial(-1)\n",
    "\n",
    "    def test_non_integer(self):\n",
    "        with self.assertRaises(TypeError):\n",
    "            factorial('bob')\n",
    "\n",
    "run_tests()"
   ]
  },
  {
   "cell_type": "markdown",
   "metadata": {},
   "source": [
    "Hmmm... we've got a couple errors. It looks like `factorial(0)` and `factorial(-1)` are not handled properly.\n",
    "\n",
    "Here's the re-written factorial function to handle these cases:"
   ]
  },
  {
   "cell_type": "code",
   "execution_count": 7,
   "metadata": {},
   "outputs": [
    {
     "name": "stderr",
     "output_type": "stream",
     "text": [
      ".....\n",
      "----------------------------------------------------------------------\n",
      "Ran 5 tests in 0.003s\n",
      "\n",
      "OK\n"
     ]
    }
   ],
   "source": [
    "def factorial(n):\n",
    "    if n < 0:\n",
    "        raise ValueError('n must be non-negative')\n",
    "    if n == 0:\n",
    "        return 1\n",
    "    return n * factorial(n - 1)\n",
    "\n",
    "run_tests()"
   ]
  },
  {
   "cell_type": "markdown",
   "metadata": {},
   "source": [
    "## Project Layout\n",
    "\n",
    "Most projects are laid out with either the test directory as a subdirectory of the main project directory:\n",
    "\n",
    "* `my_package/`\n",
    "  * `setup.py`\n",
    "  * `my_package/`\n",
    "    * `my_module.py`\n",
    "    * `tests/`\n",
    "      * `my_module_test.py`\n",
    "  * `README.md`\n",
    "  * ...\n",
    "\n",
    "... or the test directory as a sibling of the main project directory:\n",
    "\n",
    "\n",
    "* `my_package/`\n",
    "  * `setup.py`\n",
    "  * `my_package/`\n",
    "    * `my_module.py`\n",
    "  * `tests/`\n",
    "    * `my_module_test.py`\n",
    "  * `README.md`\n",
    "  * ...\n",
    "\n",
    "There is not one correct way to do this, but the trend has become the second case above so that packages installed using [PyPI](http://pypi.org) don't include their internal tests; this helps to keep distributed package size small."
   ]
  },
  {
   "cell_type": "markdown",
   "metadata": {},
   "source": [
    "## Switching to `pytest`\n",
    "\n",
    "That's all well and good, but `unittest` is a little clunky to set up and use. Many people prefer `pytest` because the testing code is a little more \"Pythonic\", though I've been using `unittest` for years without any troubles. However, by switching to `pytest` our tests would look something like this:\n",
    "\n",
    "```python\n",
    "import pytest\n",
    "from factorial import factorial\n",
    "\n",
    "class TestFactorial(object):\n",
    "\n",
    "    def test_base_case(self):\n",
    "        assert factorial(1) == 1\n",
    "\n",
    "    def test_some_values(self):\n",
    "        assert factorial(2) == 2\n",
    "        assert factorial(3) == 6\n",
    "        assert factorial(4) == 24\n",
    "        assert factorial(10) == 3628800\n",
    "\n",
    "    def test_boundary(self):\n",
    "        assert factorial(0) == 1\n",
    "\n",
    "    def test_negative_input(self):\n",
    "        with pytest.raises(ValueError):\n",
    "            factorial(-1)\n",
    "\n",
    "    def test_non_integer(self):\n",
    "        with pytest.raises(TypeError):\n",
    "            factorial('bob')\n",
    "```\n",
    "\n",
    "... or we can convert them to plain functions, in which case they'll look like this:\n",
    "\n",
    "```python\n",
    "import pytest\n",
    "from factorial import factorial\n",
    "\n",
    "def test_base_case():\n",
    "    assert factorial(1) == 1\n",
    "\n",
    "def test_some_values():\n",
    "    assert factorial(2) == 2\n",
    "    assert factorial(3) == 6\n",
    "    assert factorial(4) == 24\n",
    "    assert factorial(10) == 3628800\n",
    "\n",
    "def test_boundary():\n",
    "    assert factorial(0) == 1\n",
    "\n",
    "def test_negative_input():\n",
    "    with pytest.raises(ValueError):\n",
    "        factorial(-1)\n",
    "\n",
    "def test_non_integer():\n",
    "    with pytest.raises(TypeError):\n",
    "        factorial('bob')\n",
    "```"
   ]
  }
 ],
 "metadata": {
  "kernelspec": {
   "display_name": "Python 3",
   "language": "python",
   "name": "python3"
  },
  "language_info": {
   "codemirror_mode": {
    "name": "ipython",
    "version": 3
   },
   "file_extension": ".py",
   "mimetype": "text/x-python",
   "name": "python",
   "nbconvert_exporter": "python",
   "pygments_lexer": "ipython3",
   "version": "3.7.5"
  }
 },
 "nbformat": 4,
 "nbformat_minor": 2
}
