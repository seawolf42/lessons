{
 "cells": [
  {
   "cell_type": "markdown",
   "metadata": {},
   "source": [
    "# Logging in Python\n",
    "\n",
    "Logging is by far the most flexible and dependable way to output information about your programs. This lesson is intended to be a crash course in the *why* and the *how* of using logging to make you a better developer."
   ]
  },
  {
   "cell_type": "markdown",
   "metadata": {},
   "source": [
    "## What is logging?\n",
    "\n",
    "Logging is using a library to output messages of all kinds as your process is running. Most developers will use `print()` calls to do this, but `print()` is intended specifically for emitting messages for the *user* of the program, while **logging** is intended for emitting messages for the *developer* of the program.\n",
    "\n",
    "Logging is as simple as printing output, but with a slightly different syntax:\n",
    "\n",
    "```python\n",
    "log.info('here is my message')\n",
    "log.debug('x = %d', x)\n",
    "assert x < 0 or log.critical('x should never be less than zero!!')\n",
    "```\n",
    "\n",
    "Note that we are logging messages very similar to how we would print them. We can use format strings and pass arbitrary data to the log message.\n",
    "\n",
    "## Your first log message\n",
    "\n",
    "To start logging, you need to import the logging module and create a logger:"
   ]
  },
  {
   "cell_type": "code",
   "execution_count": 1,
   "metadata": {},
   "outputs": [],
   "source": [
    "import logging\n",
    "\n",
    "# ignore this line, this is voodoo magic to make logging work within Jupyter\n",
    "logging.basicConfig(format='%(message)s', level=logging.DEBUG, datefmt='%I:%M:%S')\n",
    "# ok, start paying attention again :)\n",
    "\n",
    "log = logging.getLogger(__name__)"
   ]
  },
  {
   "cell_type": "markdown",
   "metadata": {},
   "source": [
    "It is customary to call your logger `log`. You can pass any object to the `getLogger()` method, but it is usually most powerful to pass `__name__`. We'll look into this later.\n",
    "\n",
    "At some point in your program you will need to create a logging *handler*... this is an output stream that the logger will send messages to. There are several kinds, but for this first demo we will use a `StreamHandler`, which outputs on `stderr` along with all your program's other error messages:"
   ]
  },
  {
   "cell_type": "code",
   "execution_count": 2,
   "metadata": {},
   "outputs": [],
   "source": [
    "# because we are in Jupyter, we don't need to add a handler, so this is commented out:\n",
    "# log.addHandler(logging.StreamHandler())"
   ]
  },
  {
   "cell_type": "markdown",
   "metadata": {},
   "source": [
    "Now we can log messages:"
   ]
  },
  {
   "cell_type": "code",
   "execution_count": 3,
   "metadata": {},
   "outputs": [
    {
     "name": "stderr",
     "output_type": "stream",
     "text": [
      "my first log message\n"
     ]
    }
   ],
   "source": [
    "log.info('my first log message')"
   ]
  },
  {
   "cell_type": "markdown",
   "metadata": {},
   "source": [
    "## Log Levels\n",
    "\n",
    "Every message is logged with a certain *level* assigned by the developer. The basic idea with levels is that they specify a significance to each message so that you can control how much output you have.\n",
    "\n",
    "Above we set the `level` to `logging.DEBUG`, which basically means output everything. The following two lines will both emit in this case:"
   ]
  },
  {
   "cell_type": "code",
   "execution_count": 4,
   "metadata": {},
   "outputs": [
    {
     "name": "stderr",
     "output_type": "stream",
     "text": [
      "my debug message\n",
      "my info message\n"
     ]
    }
   ],
   "source": [
    "log.debug('my debug message')\n",
    "log.info('my info message')"
   ]
  },
  {
   "cell_type": "markdown",
   "metadata": {},
   "source": [
    "However, if we set the logging level to `logging.INFO`, only messages of `INFO` level or higher will make it to the output:"
   ]
  },
  {
   "cell_type": "code",
   "execution_count": 5,
   "metadata": {},
   "outputs": [
    {
     "name": "stderr",
     "output_type": "stream",
     "text": [
      "my info message\n"
     ]
    }
   ],
   "source": [
    "log.setLevel(logging.INFO)\n",
    "log.debug('my debug message')\n",
    "log.info('my info message')"
   ]
  },
  {
   "cell_type": "markdown",
   "metadata": {},
   "source": [
    "So what levels are available?\n",
    "\n",
    "* **CRITICAL**: messages that indicate a true crisis; the code can't continue sensibly or a fundamental problem has occured\n",
    "* **ERROR**: the code can probably recover but this is a real problem and the code was not able to complete the requested task\n",
    "* **WARNING**: something unexpected happened, but the program is able to continue\n",
    "* **INFO**: things are working as expected, just sharing interesting info with you\n",
    "* **DEBUG**: low-level messages such as the values of variables that only matter when debugging\n",
    "\n",
    "This list above is sorted by significance. If you pick `logging.setLevel(logging.WARNING)` you will see `log.warning()`, `log.error()`, and `log.critical()` messages but not any others.\n",
    "\n",
    "Here is a more [comprehensive description of levels](https://docs.python.org/3/howto/logging.html#logging-basic-tutorial)."
   ]
  },
  {
   "cell_type": "code",
   "execution_count": 6,
   "metadata": {},
   "outputs": [],
   "source": [
    "log.setLevel(logging.DEBUG)"
   ]
  },
  {
   "cell_type": "markdown",
   "metadata": {},
   "source": [
    "## Handlers\n",
    "\n",
    "Handlers direct the logging messages to the specified output stream. When running locally, you might choose to output to `stderr` using the `StreamHandler` handler. On a server, you may prefer to output to the system logs using the `SysLogHandler`.\n",
    "\n",
    "You can add as many handlers as you like, but it's typical to have only one at a time. The most common handlers for normal use are:\n",
    "\n",
    "* **StreamHandler**: output to `stderr`, which is usually part of your regular program output\n",
    "* **FileHandler**: output to a file that is specified\n",
    "* **RotatingFileHandler**: output to a specified file, and also create a new file when the file size gets too long, keeping only the most recent N files (similar to how SysLogs work)\n",
    "* **SysLogHandler**: output directly to SysLog\n",
    "\n",
    "Here is the [complete list of handlers](https://docs.python.org/2/library/logging.handlers.html)."
   ]
  },
  {
   "cell_type": "markdown",
   "metadata": {},
   "source": [
    "## Formatting"
   ]
  },
  {
   "cell_type": "markdown",
   "metadata": {},
   "source": [
    "### Messages\n",
    "\n",
    "Log messages can be formatted using a syntax that is sort of a cross between `%` syntax and `string.format` syntax.\n",
    "\n",
    "You call the logging methods in the following way:\n",
    "\n",
    "```python\n",
    "log.info(message, *args, **kwargs)\n",
    "```\n",
    "\n",
    "The message string should have placeholders for each variable passed in the arguments using [%-style formatting](https://docs.python.org/3.6/library/stdtypes.html#old-string-formatting).\n",
    "\n",
    "If `x` is an integer, the following will all work:"
   ]
  },
  {
   "cell_type": "code",
   "execution_count": 7,
   "metadata": {},
   "outputs": [
    {
     "name": "stderr",
     "output_type": "stream",
     "text": [
      "x = 7\n",
      "x = 7\n",
      "x = 007\n",
      "x = 7\n"
     ]
    }
   ],
   "source": [
    "x = 7\n",
    "log.debug('x = %s', x)  # convert x to a string and display it\n",
    "log.debug('x = %d', x)\n",
    "log.debug('x = %03d', x)  # print x as a 3-digit number, padding the left with zeros if needed\n",
    "log.debug('x = %(xval)d', {'xval': x})  # named variables to be included in the format string"
   ]
  },
  {
   "cell_type": "markdown",
   "metadata": {},
   "source": [
    "### Formatters that apply universally\n",
    "\n",
    "Besides formatting individual messages, you can set an overall format that applies to all messages. The most common use for this is to insert a timestamp or other information consistently in all messages:"
   ]
  },
  {
   "cell_type": "code",
   "execution_count": 8,
   "metadata": {},
   "outputs": [
    {
     "name": "stderr",
     "output_type": "stream",
     "text": [
      "2019-07-09 16:05:21,010 - DEBUG - here is my debug message\n",
      "here is my debug message\n",
      "2019-07-09 16:05:21,012 - WARNING - this is my warning message\n",
      "this is my warning message\n"
     ]
    }
   ],
   "source": [
    "handler = logging.StreamHandler()\n",
    "handler.setLevel(logging.DEBUG)\n",
    "formatter = logging.Formatter('%(asctime)s - %(levelname)s - %(message)s')\n",
    "handler.setFormatter(formatter)\n",
    "log.addHandler(handler)\n",
    "\n",
    "log.debug('here is my debug message')\n",
    "log.warning('this is my warning message')"
   ]
  },
  {
   "cell_type": "markdown",
   "metadata": {},
   "source": [
    "Here the output is emitted twice because we now have two handlers on the logger. We can remove the custom handler like this:"
   ]
  },
  {
   "cell_type": "code",
   "execution_count": 9,
   "metadata": {},
   "outputs": [],
   "source": [
    "log.removeHandler(handler)"
   ]
  },
  {
   "cell_type": "markdown",
   "metadata": {},
   "source": [
    "## Other topics\n",
    "\n",
    "There are many other things that can be done with logging. Some of the more powerful concepts are:\n",
    "\n",
    "* Configuring logging level using environment variables, so that code running in production logs less than code running on your desktop\n",
    "* Using different log instances to control which messages go where\n",
    "* Set different logging levels for different handlers, so that different output streams get more or less verbosity\n",
    "* Set different logging levels for different modules, so that you can debug one section of code without having `DEBUG` level output from the rest of the program\n",
    "* Customizing formatters to show algorithmic-specific details for tracking complex code (such as emitting a thread ID to debug multi-threaded programs)"
   ]
  },
  {
   "cell_type": "markdown",
   "metadata": {},
   "source": [
    "## Resources\n",
    "\n",
    "There are many useful resources for logging, but the best to start with are:\n",
    "\n",
    "* [**logging** - Logging facility for Python](https://docs.python.org/3/library/logging.html)\n",
    "* [Logging Howto]()\n",
    "  * [Basic Logging Tutorial](https://docs.python.org/3/howto/logging.html#basic-logging-tutorial)\n",
    "  * [Advanced Logging Tutorial](https://docs.python.org/3/howto/logging.html#advanced-logging-tutorial)\n",
    "* [Logging Cookbook](https://docs.python.org/3/howto/logging-cookbook.html)\n",
    "* [printf-style String Formatting](https://docs.python.org/3.6/library/stdtypes.html#old-string-formatting)"
   ]
  }
 ],
 "metadata": {
  "kernelspec": {
   "display_name": "Python 3",
   "language": "python",
   "name": "python3"
  },
  "language_info": {
   "codemirror_mode": {
    "name": "ipython",
    "version": 3
   },
   "file_extension": ".py",
   "mimetype": "text/x-python",
   "name": "python",
   "nbconvert_exporter": "python",
   "pygments_lexer": "ipython3",
   "version": "3.7.5"
  }
 },
 "nbformat": 4,
 "nbformat_minor": 2
}
