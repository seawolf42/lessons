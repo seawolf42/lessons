{
 "cells": [
  {
   "cell_type": "markdown",
   "metadata": {},
   "source": [
    "# Making a Mockery of Testing in Python\n",
    "\n",
    "Testing objects is usually easy, but testing systems is hard, especially when each system has dependencies on external resources that you can't control. One of the most useful tools for testing multi-layered systems are **Mock objects**.\n",
    "\n",
    "The basic idea of a mock object is that it acts *like* the thing you need but that isn't what you're testing, without actually being that thing. It *mocks* something you need to perform your test.\n",
    "\n",
    "The quintessential example is mocking a database... you have a database connection and you want to run queries against it but you want to be sure you always get the response you want without having to maintain a full database that everyone keeps in sync over time.\n",
    "\n",
    "## Getting started\n",
    "\n",
    "The `mock` library is part of the `unittest` package in core Python (and a top-level package of Python 2):"
   ]
  },
  {
   "cell_type": "code",
   "execution_count": 1,
   "metadata": {},
   "outputs": [],
   "source": [
    "from unittest import mock  # Python 3\n",
    "# import mock  # Python 2"
   ]
  },
  {
   "cell_type": "markdown",
   "metadata": {},
   "source": [
    "## Your first mock object\n",
    "\n",
    "The easiest mock object to start with is the `MagicMock`. Simply create one and interact with it:"
   ]
  },
  {
   "cell_type": "code",
   "execution_count": 2,
   "metadata": {},
   "outputs": [],
   "source": [
    "my_doohicky = mock.MagicMock()"
   ]
  },
  {
   "cell_type": "markdown",
   "metadata": {},
   "source": [
    "You can now call methods against your object. Any method you call will exist, and any property you access will also exist:"
   ]
  },
  {
   "cell_type": "code",
   "execution_count": 3,
   "metadata": {},
   "outputs": [
    {
     "data": {
      "text/plain": [
       "<MagicMock name='mock.some_function()' id='4564305232'>"
      ]
     },
     "execution_count": 3,
     "metadata": {},
     "output_type": "execute_result"
    }
   ],
   "source": [
    "my_doohicky.some_function()"
   ]
  },
  {
   "cell_type": "code",
   "execution_count": 4,
   "metadata": {},
   "outputs": [
    {
     "data": {
      "text/plain": [
       "<MagicMock name='mock.some_property' id='4591909392'>"
      ]
     },
     "execution_count": 4,
     "metadata": {},
     "output_type": "execute_result"
    }
   ],
   "source": [
    "my_doohicky.some_property"
   ]
  },
  {
   "cell_type": "markdown",
   "metadata": {},
   "source": [
    "You can tell the mock to return a certain value for a method, and then call it to retrieve that value:"
   ]
  },
  {
   "cell_type": "code",
   "execution_count": 5,
   "metadata": {},
   "outputs": [
    {
     "data": {
      "text/plain": [
       "42"
      ]
     },
     "execution_count": 5,
     "metadata": {},
     "output_type": "execute_result"
    }
   ],
   "source": [
    "my_doohicky.some_function = mock.MagicMock(return_value=42)\n",
    "my_doohicky.some_function()"
   ]
  },
  {
   "cell_type": "markdown",
   "metadata": {},
   "source": [
    "You can also confirm the method was called a certain way:"
   ]
  },
  {
   "cell_type": "code",
   "execution_count": 6,
   "metadata": {},
   "outputs": [],
   "source": [
    "my_doohicky.some_function.assert_called_once()\n",
    "my_doohicky.some_function.assert_called_with()\n",
    "# ^^ those pass"
   ]
  },
  {
   "cell_type": "code",
   "execution_count": 7,
   "metadata": {},
   "outputs": [],
   "source": [
    "# this one fails:\n",
    "# my_doohicky.some_function.assert_called_once_with('abc', y=42)"
   ]
  },
  {
   "cell_type": "code",
   "execution_count": 8,
   "metadata": {},
   "outputs": [],
   "source": [
    "# let's try to call it again, this time testing the arguments are correct:\n",
    "my_doohicky.some_function.reset_mock()\n",
    "my_doohicky.some_function('abc', y=42)\n",
    "my_doohicky.some_function.assert_called_once_with('abc', y=42)"
   ]
  },
  {
   "cell_type": "code",
   "execution_count": 9,
   "metadata": {},
   "outputs": [],
   "source": [
    "# let's change the order of things and see what happens\n",
    "my_doohicky.some_function.reset_mock()\n",
    "my_doohicky.some_function('abc', x=1, y=42, z=6)\n",
    "my_doohicky.some_function.assert_called_once_with('abc', z=6, x=1, y=42)"
   ]
  },
  {
   "cell_type": "markdown",
   "metadata": {},
   "source": [
    "## Example: testing function a() calls function b()\n",
    "\n",
    "Here's how you can confirm your inner function works as expected:"
   ]
  },
  {
   "cell_type": "code",
   "execution_count": 10,
   "metadata": {},
   "outputs": [],
   "source": [
    "class MyClass(object):\n",
    "    \n",
    "    def multiply(self, x, y):\n",
    "        return x * y\n",
    "\n",
    "    def square(self, x):\n",
    "        return self.multiply(x, x)\n",
    "\n",
    "class_to_test = MyClass()\n",
    "class_to_test.multiply = mock.MagicMock()\n",
    "class_to_test.square(5)\n",
    "class_to_test.multiply.assert_called_once_with(5, 5)"
   ]
  },
  {
   "cell_type": "markdown",
   "metadata": {},
   "source": [
    "## Example: testing the consumer of a function that hasn't been written\n",
    "\n",
    "Here's how you can test the function you *have* written before you're done writing a function you haven't figured out yet:"
   ]
  },
  {
   "cell_type": "code",
   "execution_count": 11,
   "metadata": {},
   "outputs": [
    {
     "data": {
      "text/plain": [
       "{'x': 1, 'y': 2}"
      ]
     },
     "execution_count": 11,
     "metadata": {},
     "output_type": "execute_result"
    }
   ],
   "source": [
    "import json\n",
    "\n",
    "class MyIncompleteClass(object):\n",
    "    \n",
    "    def load_from_web(self, url):\n",
    "        raise NotImplementedError()\n",
    "    \n",
    "    def convert_to_json(self, url):\n",
    "        file = self.load_from_web(url)\n",
    "        return json.loads(file)\n",
    "\n",
    "to_test = MyIncompleteClass()\n",
    "to_test.load_from_web = mock.MagicMock(return_value='{\"x\": 1, \"y\": 2}')\n",
    "value = to_test.convert_to_json('http://google.com/')\n",
    "to_test.load_from_web.assert_called_with('http://google.com/')\n",
    "value"
   ]
  },
  {
   "cell_type": "markdown",
   "metadata": {},
   "source": [
    "## Resources\n",
    "\n",
    "* [Python's docs on `mock`](https://docs.python.org/3/library/unittest.mock.html)\n",
    "* [Python Mocking 101: Fake It Before You Make It](https://blog.fugue.co/2016-02-11-python-mocking-101.html)"
   ]
  }
 ],
 "metadata": {
  "kernelspec": {
   "display_name": "Python 3",
   "language": "python",
   "name": "python3"
  },
  "language_info": {
   "codemirror_mode": {
    "name": "ipython",
    "version": 3
   },
   "file_extension": ".py",
   "mimetype": "text/x-python",
   "name": "python",
   "nbconvert_exporter": "python",
   "pygments_lexer": "ipython3",
   "version": "3.7.5"
  }
 },
 "nbformat": 4,
 "nbformat_minor": 2
}
