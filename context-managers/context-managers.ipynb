{
 "cells": [
  {
   "cell_type": "markdown",
   "metadata": {},
   "source": [
    "# Context Managers in Python\n",
    "\n",
    "Many resources that your programs interact with have rules about how they are to be properly \"opened\" and \"closed\", wehre those words loosely represent the set-up and tear-down phases of the interaction.\n",
    "\n",
    "For example, when you interact with a database, there are specific steps you should perform to *connect*, and specific steps you should perform to *disconnect*. Regardless of what you are doing in between, you need to always disconnect if you have successfully connected.\n",
    "\n",
    "Because the pattern is well-known and exists in so many ways, the Python language offers a mechanism for ensuring both parts are executed correctly: **context managers**. A context manager is an object (or function decorator) that allows you to wrap your \"in between\" code in a code block that only starts if setup completes, and that guarantees tear-down regardless of how the block exits (normal return, exception, whatever).\n",
    "\n",
    "## Example Use\n",
    "\n",
    "The following example shows the use of a context manager that we are almost all very familiar with:\n",
    "\n",
    "```python\n",
    "filename = 'data.csv'\n",
    "\n",
    "with open(filename, 'r') as fin:\n",
    "    data = fin.readlines()\n",
    "```\n",
    "\n",
    "That `with` statement is really telling Python that a context manager is about to create a context. The `open()` function is actually a context manager that returns a file handle. That handle is \"open\" inside the indented code block, and becomes \"closed\" when the code block exits.\n",
    "\n",
    "The rough steps that this context manager performs for you are:\n",
    "\n",
    "1. call the low-level OS function to get a handle to the file\n",
    "1. put a wrapper around that handle that gives you access to functions on the file, like `read()`, `write()`, and `seek()`\n",
    "1. return the handle to the calling code\n",
    "1. ... do the work in the code block until either a value is returned or an exception propagates up ...\n",
    "1. call the low-level OS function to relenquish the handle to the file back to the available group\n",
    "\n",
    "## Writing a Context Manager\n",
    "\n",
    "Our first context manager will be simple: it will print a line of text before the inner block is executed and print another line of text when the inner block completes.\n",
    "\n",
    "You can write context managers two ways, as a class or as a generator function.\n",
    "\n",
    "### Class-Based Context Manager\n",
    "\n",
    "The class approach is easier to understand, so we'll start there:"
   ]
  },
  {
   "cell_type": "code",
   "execution_count": 1,
   "metadata": {},
   "outputs": [],
   "source": [
    "class WrappedCode:\n",
    "    \n",
    "    def __init__(self, name):\n",
    "        self.name = name\n",
    "    \n",
    "    def __enter__(self):\n",
    "        print(f'class-based context manager entered: {self.name}')\n",
    "        \n",
    "    def __exit__(self, type, value, traceback):\n",
    "        print(f'class-based context manager exited: {self.name} ({type}, {value}, {traceback})')"
   ]
  },
  {
   "cell_type": "markdown",
   "metadata": {},
   "source": [
    "Now we can instantiate this context manager and see it in action:"
   ]
  },
  {
   "cell_type": "code",
   "execution_count": 2,
   "metadata": {},
   "outputs": [
    {
     "name": "stdout",
     "output_type": "stream",
     "text": [
      "class-based context manager entered: normal\n",
      "inside the inner code block\n",
      "class-based context manager exited: normal (None, None, None)\n"
     ]
    }
   ],
   "source": [
    "with WrappedCode('normal'):\n",
    "    print('inside the inner code block')"
   ]
  },
  {
   "cell_type": "markdown",
   "metadata": {},
   "source": [
    "This still works if our inner code throws an exception:"
   ]
  },
  {
   "cell_type": "code",
   "execution_count": 3,
   "metadata": {},
   "outputs": [
    {
     "name": "stdout",
     "output_type": "stream",
     "text": [
      "class-based context manager entered: exception\n",
      "start inner block\n",
      "class-based context manager exited: exception (<class 'Exception'>, oh no!, <traceback object at 0x10a5832d0>)\n",
      "exception handled outside of context manager\n"
     ]
    }
   ],
   "source": [
    "try:\n",
    "    with WrappedCode('exception'):\n",
    "        print('start inner block')\n",
    "        raise Exception('oh no!')\n",
    "except:\n",
    "    print('exception handled outside of context manager')"
   ]
  },
  {
   "cell_type": "markdown",
   "metadata": {},
   "source": [
    "### Function-Based Context Manager\n",
    "\n",
    "You can also implement the same context manager by using the `@contextmanager` decorator from `contextlib`. In this case, the decorator decorates a function that is responsible for first running the pre-context code, yielding control to the inner block, and then running the post-context block:"
   ]
  },
  {
   "cell_type": "code",
   "execution_count": 4,
   "metadata": {},
   "outputs": [],
   "source": [
    "from contextlib import contextmanager\n",
    "\n",
    "@contextmanager\n",
    "def wrapped_code(name):\n",
    "    print(f'function-based context manager entered: {name}')\n",
    "    try:\n",
    "        yield\n",
    "    finally:\n",
    "        print(f'function-based context manager exited: {name}')"
   ]
  },
  {
   "cell_type": "markdown",
   "metadata": {},
   "source": [
    "This can be used in the same way as the class-based approach:"
   ]
  },
  {
   "cell_type": "code",
   "execution_count": 5,
   "metadata": {},
   "outputs": [
    {
     "name": "stdout",
     "output_type": "stream",
     "text": [
      "function-based context manager entered: normal\n",
      "inside the inner code block\n",
      "function-based context manager exited: normal\n"
     ]
    }
   ],
   "source": [
    "with wrapped_code('normal'):\n",
    "    print('inside the inner code block')"
   ]
  },
  {
   "cell_type": "code",
   "execution_count": 6,
   "metadata": {},
   "outputs": [
    {
     "name": "stdout",
     "output_type": "stream",
     "text": [
      "function-based context manager entered: exception\n",
      "start inner block\n",
      "function-based context manager exited: exception\n",
      "exception handled outside of context manager\n"
     ]
    }
   ],
   "source": [
    "try:\n",
    "    with wrapped_code('exception'):\n",
    "        print('start inner block')\n",
    "        raise Exception('oh no!')\n",
    "except:\n",
    "    print('exception handled outside of context manager')"
   ]
  },
  {
   "cell_type": "markdown",
   "metadata": {},
   "source": [
    "### Returning a Context\n",
    "\n",
    "Sometimes the context manager itself is part of what the inner block requires. For instance, the `open(*args, **kwargs)` context manager returns an appropriate reader object for the settings specifying text or binary mode. Another example would be a context manager for a database connection returning the connection object for your inner code to interact with.\n",
    "\n",
    "A context manager can return a value from the `__enter__()` method (for class-based) or `yield` a value (for function-based).\n",
    "\n",
    "Here's a context manager that adds extra methods that can be called:"
   ]
  },
  {
   "cell_type": "code",
   "execution_count": 7,
   "metadata": {},
   "outputs": [
    {
     "name": "stdout",
     "output_type": "stream",
     "text": [
      "context manager entered\n",
      "message: this is cool!\n",
      "context manager exited\n"
     ]
    }
   ],
   "source": [
    "class Printer:\n",
    "    \n",
    "    def __enter__(self):\n",
    "        print('context manager entered')\n",
    "        return self\n",
    "        \n",
    "    def __exit__(self, type, value, traceback):\n",
    "        print('context manager exited')\n",
    "    \n",
    "    def print(self, message):\n",
    "        print('message:', message)\n",
    "\n",
    "with Printer() as printer:\n",
    "    printer.print('this is cool!')"
   ]
  },
  {
   "cell_type": "markdown",
   "metadata": {},
   "source": [
    "A similar context manager using a decorated function might look like this:"
   ]
  },
  {
   "cell_type": "code",
   "execution_count": 8,
   "metadata": {},
   "outputs": [
    {
     "name": "stdout",
     "output_type": "stream",
     "text": [
      "context manager entered\n",
      "message: this is cool!\n",
      "context manager exited\n"
     ]
    }
   ],
   "source": [
    "@contextmanager\n",
    "def printer():\n",
    "    def inner_print(message):\n",
    "        print('message:', message)\n",
    "    print('context manager entered')\n",
    "    try:\n",
    "        yield inner_print\n",
    "    finally:\n",
    "        print('context manager exited')\n",
    "        \n",
    "with printer() as print_message:\n",
    "    print_message('this is cool!')"
   ]
  },
  {
   "cell_type": "markdown",
   "metadata": {},
   "source": [
    "## Considerations\n",
    "\n",
    "A context manager is a very convenient mechanism for ensuring you properly release resources when you're done with them. While exception handlers *can* do the right thing, it becomes the responsibility of the *user* of the package to know what cleanup is required. By using a context manager, you as the package manager have the necessary knowledge to clean up all the resources used in the context.\n",
    "\n",
    "Many context managers don't return anything at all, and this is completely reasonable for many use cases. But the majority of context managers return some kind of context object. For class-based, they sometimes return `self`, but a complex system might return an object that is not the context manager itself but is managed by it. Function-based context managers can also return any object, so using a complex object to describe everything that can be done within the context is not uncommon.\n",
    "\n",
    "With that in mind, note that it's a best practice to have your code objects each be responsible for a single thing. With this in mind, it's not unusual to have several context managers called together. For this, they can be nested:"
   ]
  },
  {
   "cell_type": "code",
   "execution_count": 9,
   "metadata": {},
   "outputs": [
    {
     "name": "stdout",
     "output_type": "stream",
     "text": [
      "function-based context manager entered: wrapper\n",
      "context manager entered\n",
      "message: nested context are pretty great...\n",
      "context manager exited\n",
      "function-based context manager exited: wrapper\n"
     ]
    }
   ],
   "source": [
    "with wrapped_code('wrapper') as wrapper:\n",
    "    with printer() as print_message:\n",
    "        print_message('nested context are pretty great...')"
   ]
  },
  {
   "cell_type": "markdown",
   "metadata": {},
   "source": [
    "Alternately, you can call them together on a single line (as long as none of them are used as the input to any other)"
   ]
  },
  {
   "cell_type": "code",
   "execution_count": 10,
   "metadata": {},
   "outputs": [
    {
     "name": "stdout",
     "output_type": "stream",
     "text": [
      "function-based context manager entered: wrapper\n",
      "context manager entered\n",
      "message: but flat contexts are even cleaner!\n",
      "context manager exited\n",
      "function-based context manager exited: wrapper\n"
     ]
    }
   ],
   "source": [
    "with wrapped_code('wrapper') as wrapper, printer() as print_message:\n",
    "    print_message('but flat contexts are even cleaner!')"
   ]
  },
  {
   "cell_type": "markdown",
   "metadata": {},
   "source": [
    "When you flatten multiple contexts into a single line, they are applied in the order specified and they unwind in the opposite order they were created, just as they would if they were nested."
   ]
  },
  {
   "cell_type": "markdown",
   "metadata": {},
   "source": [
    "## Summary\n",
    "\n",
    "Context managers give you a simple way to wrap a block of code with the correct setup and tear-down structure to ensure you never forget a critical clean-up step. They work properly with both normal execution and raised exceptions. And they are very simple to write and use."
   ]
  },
  {
   "cell_type": "markdown",
   "metadata": {},
   "source": [
    "## References\n",
    "\n",
    "* [`contextlib` — Utilities for with-statement contexts](https://docs.python.org/3/library/contextlib.html)\n",
    "* [PEP 343 -- The \"with\" statement](https://www.python.org/dev/peps/pep-0343/)"
   ]
  }
 ],
 "metadata": {
  "kernelspec": {
   "display_name": "Python 3",
   "language": "python",
   "name": "python3"
  },
  "language_info": {
   "codemirror_mode": {
    "name": "ipython",
    "version": 3
   },
   "file_extension": ".py",
   "mimetype": "text/x-python",
   "name": "python",
   "nbconvert_exporter": "python",
   "pygments_lexer": "ipython3",
   "version": "3.7.5"
  }
 },
 "nbformat": 4,
 "nbformat_minor": 2
}
