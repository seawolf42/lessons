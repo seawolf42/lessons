{
 "cells": [
  {
   "cell_type": "markdown",
   "metadata": {},
   "source": [
    "# Formatted Printing in Python\n",
    "\n",
    "Printing output in python is easy, but printing well takes a little practice. Luckily, Python gives you two ways to format output simply and effectively."
   ]
  },
  {
   "cell_type": "markdown",
   "metadata": {},
   "source": [
    "## Method 1: string.format()\n",
    "\n",
    "`string.format()` is the preferred mechanism for formatting output in all versions of Python. The syntax for this is to call the `format()` method on a string that defines the format, and to pass the arguments to be formatted within the function parameter list:"
   ]
  },
  {
   "cell_type": "code",
   "execution_count": 1,
   "metadata": {},
   "outputs": [
    {
     "data": {
      "text/plain": [
       "'x = 42'"
      ]
     },
     "execution_count": 1,
     "metadata": {},
     "output_type": "execute_result"
    }
   ],
   "source": [
    "x = 42\n",
    "'x = {}'.format(x)"
   ]
  },
  {
   "cell_type": "markdown",
   "metadata": {},
   "source": [
    "Everywhere you see a `{}` in the format string, it will be replaced by the next sequential parameter.\n",
    "\n",
    "### Indexed parameter references\n",
    "\n",
    "Maybe you want to change the order of parameters, or repeat parameter values in the output. To do this you identify the index of the parameter in the parameter list:"
   ]
  },
  {
   "cell_type": "code",
   "execution_count": 2,
   "metadata": {},
   "outputs": [
    {
     "data": {
      "text/plain": [
       "'x = 42 ... this is less than 41 but more than 43'"
      ]
     },
     "execution_count": 2,
     "metadata": {},
     "output_type": "execute_result"
    }
   ],
   "source": [
    "'x = {0} ... this is less than {1} but more than {2}'.format(x, x-1, x+1)"
   ]
  },
  {
   "cell_type": "markdown",
   "metadata": {},
   "source": [
    "This is especially useful if you define your format strings separately from where they are used:"
   ]
  },
  {
   "cell_type": "code",
   "execution_count": 3,
   "metadata": {},
   "outputs": [
    {
     "name": "stdout",
     "output_type": "stream",
     "text": [
      "list: [864, 394, 776]\n",
      "394 <= 776 <= 864\n",
      "864 >= 776 >= 394\n",
      "776 == 776\n"
     ]
    }
   ],
   "source": [
    "import random\n",
    "random.seed(0)\n",
    "numbers = [random.randint(0, 1000) for i in range(3)]\n",
    "small, medium, large = sorted(numbers)\n",
    "\n",
    "format_random = 'list: {}'\n",
    "format_ascending = '{0} <= {1} <= {2}'\n",
    "format_descending = '{2} >= {1} >= {0}'\n",
    "format_equals = '{1} == {1}'\n",
    "\n",
    "print(format_random.format(numbers))\n",
    "print(format_ascending.format(small, medium, large))\n",
    "print(format_descending.format(small, medium, large))\n",
    "print(format_equals.format(small, medium, large))"
   ]
  },
  {
   "cell_type": "markdown",
   "metadata": {},
   "source": [
    "### Modifying parameter output\n",
    "\n",
    "You can customize how individual parameters are formatted within the output by modifying the `{}` placeholder:\n",
    "\n",
    "You can specify the **type** used for formatting by providing a type letter:\n",
    "* `{:s}`: treat the value as a `string`\n",
    "* `{:d}`: treat the value as a `int`\n",
    "* `{:f}`: treat the value as a `float`"
   ]
  },
  {
   "cell_type": "code",
   "execution_count": 4,
   "metadata": {},
   "outputs": [
    {
     "data": {
      "text/plain": [
       "'42.000000'"
      ]
     },
     "execution_count": 4,
     "metadata": {},
     "output_type": "execute_result"
    }
   ],
   "source": [
    "'{:f}'.format(42)"
   ]
  },
  {
   "cell_type": "markdown",
   "metadata": {},
   "source": [
    "Note that this only works if the underlying conversion is supported. Anything can be converted to a string, but (for instance) float values cannot be cast to an int without extra work:"
   ]
  },
  {
   "cell_type": "code",
   "execution_count": 5,
   "metadata": {},
   "outputs": [
    {
     "data": {
      "text/plain": [
       "'12'"
      ]
     },
     "execution_count": 5,
     "metadata": {},
     "output_type": "execute_result"
    }
   ],
   "source": [
    "# '{:d}'.format(12.345) <-- doesn't work because the formatter won't perform\n",
    "#                           any cast that results in a loss of precision\n",
    "'{:d}'.format(int(12.345))"
   ]
  },
  {
   "cell_type": "markdown",
   "metadata": {},
   "source": [
    "\n",
    "These conversions are helpful because you can specify leading and trailing characters and decimal precision in the format string:"
   ]
  },
  {
   "cell_type": "code",
   "execution_count": 6,
   "metadata": {},
   "outputs": [
    {
     "name": "stdout",
     "output_type": "stream",
     "text": [
      "12.3\n",
      "the value is:             12.35\n",
      "the value is:             12\n",
      "the value is:            +12.34568\n"
     ]
    }
   ],
   "source": [
    "print('{:1.1f}'.format(12.3456789))\n",
    "print('the value is: {:17.2f}'.format(12.3456789))\n",
    "print('the value is: {:14.0f}'.format(12.3456789))\n",
    "print('the value is: {:+20.5f}'.format(12.3456789))"
   ]
  },
  {
   "cell_type": "markdown",
   "metadata": {},
   "source": [
    "... or you can pad an integer with leading zeros:"
   ]
  },
  {
   "cell_type": "code",
   "execution_count": 7,
   "metadata": {},
   "outputs": [
    {
     "name": "stdout",
     "output_type": "stream",
     "text": [
      "0042\n"
     ]
    }
   ],
   "source": [
    "print('{:04d}'.format(x))"
   ]
  },
  {
   "cell_type": "code",
   "execution_count": 8,
   "metadata": {},
   "outputs": [
    {
     "name": "stdout",
     "output_type": "stream",
     "text": [
      " 2:15:02\n"
     ]
    }
   ],
   "source": [
    "h = 2\n",
    "m = 15\n",
    "s = 2\n",
    "print('{:2d}:{:02d}:{:02d}'.format(h, m, s))"
   ]
  },
  {
   "cell_type": "markdown",
   "metadata": {},
   "source": [
    "... or you can modify your strings to pad them with spaces or other characters"
   ]
  },
  {
   "cell_type": "code",
   "execution_count": 9,
   "metadata": {},
   "outputs": [
    {
     "name": "stdout",
     "output_type": "stream",
     "text": [
      "abcde               \n",
      "               abcde\n",
      "       abcde        \n",
      "...............abcde\n"
     ]
    }
   ],
   "source": [
    "print('{:<20s}'.format('abcde'))\n",
    "print('{:>20s}'.format('abcde'))\n",
    "print('{:^20s}'.format('abcde'))\n",
    "print('{:.>20s}'.format('abcde'))"
   ]
  },
  {
   "cell_type": "markdown",
   "metadata": {},
   "source": [
    "Learn a whole lot more about formatting your output in the [Format String Syntax](https://docs.python.org/3/library/string.html#format-string-syntax) section of [string — Common string operations](https://docs.python.org/3/library/string.html) of the python documentation."
   ]
  },
  {
   "cell_type": "markdown",
   "metadata": {},
   "source": [
    "## Method 2: %-formatting\n",
    "\n",
    "The \"old\" way of formatting in python is using **%-formatting** (also called *C-style formatting*). While this isn't recommended any longer for general output, it is the only supported syntax for format strings in the `logging` module. This mechanism should be very familiar to people who have programmed in C.\n",
    "\n",
    "The basic syntax is:\n",
    "\n",
    "```\n",
    "<format string> % <parameter list>\n",
    "```"
   ]
  },
  {
   "cell_type": "code",
   "execution_count": 10,
   "metadata": {},
   "outputs": [
    {
     "data": {
      "text/plain": [
       "'x = 42'"
      ]
     },
     "execution_count": 10,
     "metadata": {},
     "output_type": "execute_result"
    }
   ],
   "source": [
    "'x = %d' % x"
   ]
  },
  {
   "cell_type": "markdown",
   "metadata": {},
   "source": [
    "### Indexed parameter references\n",
    "\n",
    "Sorry, you can't do this with this method... your parameters must be passed in the order they are expected to be used.\n",
    "\n",
    "### Modifying parameter output\n",
    "\n",
    "You can do all the same kinds of parameter formatting here as you can in `string.format()`:"
   ]
  },
  {
   "cell_type": "code",
   "execution_count": 11,
   "metadata": {},
   "outputs": [
    {
     "name": "stdout",
     "output_type": "stream",
     "text": [
      "42.000000\n",
      "12\n",
      "12.345679\n",
      "            12.35\n",
      "            12\n",
      "           +12.34568\n",
      "0042\n"
     ]
    }
   ],
   "source": [
    "print('%f' % 42)\n",
    "print('%d' % int(12.345))\n",
    "print('%f' % 12.3456789)\n",
    "print('%17.2f' % 12.3456789)\n",
    "print('%14.0f' % 12.3456789)\n",
    "print('%+20.5f' % 12.3456789)\n",
    "print('%04d' % x)"
   ]
  },
  {
   "cell_type": "markdown",
   "metadata": {},
   "source": [
    "Note that many of the helpful tools for string alignment and padding are done differently in %-formatting, and not all operations are supported:"
   ]
  },
  {
   "cell_type": "code",
   "execution_count": 12,
   "metadata": {},
   "outputs": [
    {
     "name": "stdout",
     "output_type": "stream",
     "text": [
      "abcde\n",
      "               abcde\n",
      "       abcde\n"
     ]
    }
   ],
   "source": [
    "print('%s' % 'abcde')\n",
    "print('%20s' % 'abcde')\n",
    "print('%12s' % 'abcde')\n",
    "# print('%.20s' % 'abcde') <-- no padding characters supported"
   ]
  },
  {
   "cell_type": "markdown",
   "metadata": {},
   "source": [
    "## References\n",
    "\n",
    "* [PyFormat: Using % and .format() for great good!](https://pyformat.info/)\n",
    "* [Custom String Formatting](https://docs.python.org/3/library/string.html#string-formatting) (`string.format()` method)\n",
    "* [String Formatting Operations](https://docs.python.org/2/library/stdtypes.html#string-formatting) (%-formatting method)\n"
   ]
  },
  {
   "cell_type": "code",
   "execution_count": null,
   "metadata": {},
   "outputs": [],
   "source": []
  }
 ],
 "metadata": {
  "kernelspec": {
   "display_name": "Python 3",
   "language": "python",
   "name": "python3"
  },
  "language_info": {
   "codemirror_mode": {
    "name": "ipython",
    "version": 3
   },
   "file_extension": ".py",
   "mimetype": "text/x-python",
   "name": "python",
   "nbconvert_exporter": "python",
   "pygments_lexer": "ipython3",
   "version": "3.7.5"
  }
 },
 "nbformat": 4,
 "nbformat_minor": 2
}
